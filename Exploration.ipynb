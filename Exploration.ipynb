{
 "cells": [
  {
   "cell_type": "code",
   "execution_count": 2,
   "outputs": [
    {
     "data": {
      "text/plain": "{'europe': {'tl_y': 72.57,\n  'tl_x': -16.96,\n  'br_y': 33.57,\n  'br_x': 53.05,\n  'subzones': {'poland': {'tl_y': 56.86,\n    'tl_x': 11.06,\n    'br_y': 48.22,\n    'br_x': 28.26},\n   'germany': {'tl_y': 57.92, 'tl_x': 1.81, 'br_y': 45.81, 'br_x': 16.83},\n   'uk': {'tl_y': 62.61,\n    'tl_x': -13.07,\n    'br_y': 49.71,\n    'br_x': 3.46,\n    'subzones': {'london': {'tl_y': 53.06,\n      'tl_x': -2.87,\n      'br_y': 50.07,\n      'br_x': 3.26},\n     'ireland': {'tl_y': 56.22, 'tl_x': -11.71, 'br_y': 50.91, 'br_x': -4.4}}},\n   'spain': {'tl_y': 44.36, 'tl_x': -11.06, 'br_y': 35.76, 'br_x': 4.04},\n   'france': {'tl_y': 51.07, 'tl_x': -5.18, 'br_y': 42.17, 'br_x': 8.9},\n   'ceur': {'tl_y': 51.39, 'tl_x': 11.25, 'br_y': 39.72, 'br_x': 32.55},\n   'scandinavia': {'tl_y': 72.12, 'tl_x': -0.73, 'br_y': 53.82, 'br_x': 40.67},\n   'italy': {'tl_y': 47.67, 'tl_x': 5.26, 'br_y': 36.27, 'br_x': 20.64}}},\n 'northamerica': {'tl_y': 75,\n  'tl_x': -180,\n  'br_y': 3,\n  'br_x': -52,\n  'subzones': {'na_n': {'tl_y': 72.82,\n    'tl_x': -177.97,\n    'br_y': 41.92,\n    'br_x': -52.48},\n   'na_c': {'tl_y': 54.66,\n    'tl_x': -134.68,\n    'br_y': 22.16,\n    'br_x': -56.91,\n    'subzones': {'na_cny': {'tl_y': 45.06,\n      'tl_x': -83.69,\n      'br_y': 35.96,\n      'br_x': -64.29},\n     'na_cla': {'tl_y': 37.91,\n      'tl_x': -126.12,\n      'br_y': 30.21,\n      'br_x': -110.02},\n     'na_cat': {'tl_y': 35.86, 'tl_x': -92.61, 'br_y': 22.56, 'br_x': -71.19},\n     'na_cse': {'tl_y': 49.12,\n      'tl_x': -126.15,\n      'br_y': 42.97,\n      'br_x': -111.92},\n     'na_nw': {'tl_y': 54.12, 'tl_x': -134.13, 'br_y': 38.32, 'br_x': -96.75},\n     'na_ne': {'tl_y': 53.72, 'tl_x': -98.76, 'br_y': 38.22, 'br_x': -57.36},\n     'na_sw': {'tl_y': 38.92, 'tl_x': -133.98, 'br_y': 22.62, 'br_x': -96.75},\n     'na_se': {'tl_y': 38.52, 'tl_x': -98.62, 'br_y': 22.52, 'br_x': -57.36},\n     'na_cc': {'tl_y': 45.92,\n      'tl_x': -116.88,\n      'br_y': 27.62,\n      'br_x': -75.91}}},\n   'na_s': {'tl_y': 41.92, 'tl_x': -177.83, 'br_y': 3.82, 'br_x': -52.48}}},\n 'southamerica': {'tl_y': 16, 'tl_x': -96, 'br_y': -57, 'br_x': -31},\n 'oceania': {'tl_y': 19.62, 'tl_x': 88.4, 'br_y': -55.08, 'br_x': 180},\n 'asia': {'tl_y': 79.98,\n  'tl_x': 40.91,\n  'br_y': 12.48,\n  'br_x': 179.77,\n  'subzones': {'japan': {'tl_y': 60.38,\n    'tl_x': 113.5,\n    'br_y': 22.58,\n    'br_x': 176.47}}},\n 'africa': {'tl_y': 39, 'tl_x': -29, 'br_y': -39, 'br_x': 55},\n 'atlantic': {'tl_y': 52.62, 'tl_x': -50.9, 'br_y': 15.62, 'br_x': -4.75},\n 'maldives': {'tl_y': 10.72, 'tl_x': 63.1, 'br_y': -6.08, 'br_x': 86.53},\n 'northatlantic': {'tl_y': 82.62, 'tl_x': -84.53, 'br_y': 59.02, 'br_x': 4.45}}"
     },
     "execution_count": 2,
     "metadata": {},
     "output_type": "execute_result"
    }
   ],
   "source": [
    "from FlightRadar24.api import FlightRadar24API\n",
    "fr_api = FlightRadar24API()\n",
    "\n",
    "fr_api.get_zones()"
   ],
   "metadata": {
    "collapsed": false,
    "pycharm": {
     "name": "#%%\n"
    }
   }
  },
  {
   "cell_type": "code",
   "execution_count": null,
   "outputs": [],
   "source": [],
   "metadata": {
    "collapsed": false,
    "pycharm": {
     "name": "#%%\n"
    }
   }
  }
 ],
 "metadata": {
  "kernelspec": {
   "display_name": "Python 3",
   "language": "python",
   "name": "python3"
  },
  "language_info": {
   "codemirror_mode": {
    "name": "ipython",
    "version": 2
   },
   "file_extension": ".py",
   "mimetype": "text/x-python",
   "name": "python",
   "nbconvert_exporter": "python",
   "pygments_lexer": "ipython2",
   "version": "2.7.6"
  }
 },
 "nbformat": 4,
 "nbformat_minor": 0
}